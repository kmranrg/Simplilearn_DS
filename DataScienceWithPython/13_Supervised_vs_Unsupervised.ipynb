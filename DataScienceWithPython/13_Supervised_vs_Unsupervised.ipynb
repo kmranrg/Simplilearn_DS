{
 "cells": [
  {
   "cell_type": "code",
   "execution_count": 1,
   "id": "99ddfcf4",
   "metadata": {},
   "outputs": [
    {
     "data": {
      "text/plain": [
       "\"\\nSupervised - output is there in dataset to learn\\n\\nUnSupervised - model needs to learn on it's own by classifying the data based on their features\\n\""
      ]
     },
     "execution_count": 1,
     "metadata": {},
     "output_type": "execute_result"
    }
   ],
   "source": [
    "'''\n",
    "Supervised - output is there in dataset to learn\n",
    "\n",
    "UnSupervised - model needs to learn on it's own by classifying the data based on their features\n",
    "'''"
   ]
  },
  {
   "cell_type": "code",
   "execution_count": 5,
   "id": "220a2f2e",
   "metadata": {},
   "outputs": [
    {
     "data": {
      "text/plain": [
       "'\\nTypes of Supervised Learning:\\n\\n1) Regression (for continuous dataset) - predicting the room temp\\n2) Classification (for categorical dataset or discrete (not continuous)) - sunny or rainy\\n'"
      ]
     },
     "execution_count": 5,
     "metadata": {},
     "output_type": "execute_result"
    }
   ],
   "source": [
    "'''\n",
    "Types of Supervised Learning:\n",
    "\n",
    "1) Regression (for continuous dataset) - predicting the room temp\n",
    "2) Classification (for categorical dataset or discrete (not continuous)) - sunny or rainy\n",
    "'''"
   ]
  },
  {
   "cell_type": "markdown",
   "id": "9dadad86",
   "metadata": {},
   "source": [
    "<img src=\"7.png\">"
   ]
  },
  {
   "cell_type": "code",
   "execution_count": 7,
   "id": "ef45094a",
   "metadata": {},
   "outputs": [
    {
     "data": {
      "text/plain": [
       "'\\nRegression Types:\\n\\n1) Simple Liner Regression (SLR) - when one feature (x) is there\\n2) Multiple Linear Regression (MLR) - when more than on feature (x1, x2...) are there\\n \\n'"
      ]
     },
     "execution_count": 7,
     "metadata": {},
     "output_type": "execute_result"
    }
   ],
   "source": [
    "'''\n",
    "Regression Types:\n",
    "\n",
    "1) Simple Liner Regression (SLR) - when one feature (x) is there\n",
    "2) Multiple Linear Regression (MLR) - when more than on feature (x1, x2...) are there\n",
    " \n",
    "'''"
   ]
  },
  {
   "cell_type": "code",
   "execution_count": null,
   "id": "67b4e8b2",
   "metadata": {},
   "outputs": [],
   "source": []
  }
 ],
 "metadata": {
  "kernelspec": {
   "display_name": "Python 3 (ipykernel)",
   "language": "python",
   "name": "python3"
  },
  "language_info": {
   "codemirror_mode": {
    "name": "ipython",
    "version": 3
   },
   "file_extension": ".py",
   "mimetype": "text/x-python",
   "name": "python",
   "nbconvert_exporter": "python",
   "pygments_lexer": "ipython3",
   "version": "3.9.12"
  }
 },
 "nbformat": 4,
 "nbformat_minor": 5
}
